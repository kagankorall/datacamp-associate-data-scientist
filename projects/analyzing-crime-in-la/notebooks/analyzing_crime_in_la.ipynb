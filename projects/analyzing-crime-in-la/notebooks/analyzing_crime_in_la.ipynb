{
 "cells": [
  {
   "cell_type": "code",
   "execution_count": 2,
   "id": "ee4c5a2d",
   "metadata": {},
   "outputs": [
    {
     "name": "stdout",
     "output_type": "stream",
     "text": [
      "12\n",
      "AGE_LEVEL\n",
      "26-34    47470\n",
      "35-44    42157\n",
      "45-54    28353\n",
      "18-25    28291\n",
      "55-64    20169\n",
      "65+      14747\n",
      "0-17      4528\n",
      "Name: count, dtype: int64\n"
     ]
    }
   ],
   "source": [
    "import pandas as pd\n",
    "import numpy as np\n",
    "import matplotlib.pyplot as plt\n",
    "import seaborn as sns\n",
    "\n",
    "crimes = pd.read_csv(\"../data/crimes.csv\", dtype={\"TIME OCC\": str})\n",
    "crimes.head()\n",
    "\n",
    "# Question 1\n",
    "# Which hour has the highest frequency of crimes? Store as an integer variable called peak_crime_hour.\n",
    "crimes[\"HOUR_OCC\"] = crimes[\"TIME OCC\"].str[:2].astype(int)\n",
    "\n",
    "peak_crime_hour = crimes[\"HOUR_OCC\"].mode()[0]\n",
    "print(peak_crime_hour)\n",
    "\n",
    "# Question 2\n",
    "# Which area has the largest frequency of night crimes (crimes committed between 10pm and 3:59am)? Save as a string variable called peak_night_crime_location.\n",
    "night_hours = [(crimes[\"HOUR_OCC\"] >= 22) | (crimes[\"HOUR_OCC\"] <= 3)]\n",
    "labels = [\"night\"]\n",
    "crimes[\"DAY_OR_NIGHT\"] = np.select(night_hours,labels,default=\"morning\")\n",
    "\n",
    "night_crimes = crimes[crimes[\"DAY_OR_NIGHT\"] == \"night\"]\n",
    "night_crime_locations = night_crimes[\"AREA NAME\"].value_counts()\n",
    "peak_night_crime_location = night_crime_locations.index[0]\n",
    "\n",
    "# Question 3\n",
    "# Identify the number of crimes committed against victims of different age groups. Save as a pandas Series called victim_ages, with age group labels \"0-17\", \"18-25\", \"26-34\", \"35-44\", \"45-54\", \"55-64\", and \"65+\" as the index and the frequency of crimes as the values.\n",
    "age_labels = [\"0-17\",\"18-25\",\"26-34\",\"35-44\",\"45-54\",\"55-64\",\"65+\"]\n",
    "age_bins = [0,17,25,34,44,54,64,np.inf]\n",
    "\n",
    "crimes[\"AGE_LEVEL\"] = pd.cut(crimes[\"Vict Age\"], labels = age_labels, bins = age_bins)\n",
    "\n",
    "victim_ages = crimes[\"AGE_LEVEL\"].value_counts()\n",
    "print(victim_ages)\n"
   ]
  },
  {
   "cell_type": "code",
   "execution_count": null,
   "id": "36938a94",
   "metadata": {},
   "outputs": [],
   "source": []
  }
 ],
 "metadata": {
  "kernelspec": {
   "display_name": "base",
   "language": "python",
   "name": "python3"
  },
  "language_info": {
   "codemirror_mode": {
    "name": "ipython",
    "version": 3
   },
   "file_extension": ".py",
   "mimetype": "text/x-python",
   "name": "python",
   "nbconvert_exporter": "python",
   "pygments_lexer": "ipython3",
   "version": "3.11.5"
  }
 },
 "nbformat": 4,
 "nbformat_minor": 5
}
