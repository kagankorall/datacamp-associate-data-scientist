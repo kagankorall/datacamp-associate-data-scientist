{
 "cells": [
  {
   "cell_type": "markdown",
   "id": "2be08f56",
   "metadata": {},
   "source": [
    "Question 1: \n",
    "\n",
    "What is the most commonly awarded gender and birth country?\n",
    "\n",
    "- Store your answers as string variables `top_gender` and `top_country`."
   ]
  },
  {
   "cell_type": "code",
   "execution_count": 2,
   "id": "1962a4e1",
   "metadata": {},
   "outputs": [
    {
     "data": {
      "text/plain": [
       "('Male', 'United States of America')"
      ]
     },
     "execution_count": 2,
     "metadata": {},
     "output_type": "execute_result"
    }
   ],
   "source": [
    "# Loading in required libraries\n",
    "import pandas as pd\n",
    "import seaborn as sns\n",
    "import numpy as np\n",
    "\n",
    "nobel_df = pd.read_csv('../data/nobel.csv')\n",
    "nobel_df.head()\n",
    "\n",
    "top_gender = nobel_df['sex'].mode()[0]\n",
    "\n",
    "top_country = nobel_df['birth_country'].mode()[0]\n",
    "\n",
    "top_gender, top_country"
   ]
  },
  {
   "cell_type": "markdown",
   "id": "805cd416",
   "metadata": {},
   "source": [
    "Question 2:\n",
    "\n",
    "Which decade had the highest ratio of US-born Nobel Prize winners to total winners in all categories?\n",
    "\n",
    "- Store this as an integer called `max_decade_usa`."
   ]
  },
  {
   "cell_type": "code",
   "execution_count": 3,
   "id": "8a408016",
   "metadata": {},
   "outputs": [],
   "source": [
    "# Extracting the decade from the year\n",
    "nobel_df['decade'] = (nobel_df['year'] // 10) * 10\n",
    "\n",
    "# Filtering for US-born Nobel Prize winners\n",
    "us_winners = nobel_df[nobel_df['birth_country'] == 'United States of America']\n",
    "\n",
    "# Counting the number of US-born winners per decade\n",
    "us_winners_per_decade = us_winners['decade'].value_counts().sort_index()\n",
    "\n",
    "# Counting the total number of winners per decade\n",
    "total_winners_per_decade = nobel_df['decade'].value_counts().sort_index()\n",
    "\n",
    "# Calculating the ratio of US-born winners to total winners per decade\n",
    "ratio_per_decade = us_winners_per_decade / total_winners_per_decade\n",
    "\n",
    "# Finding the decade with the highest ratio\n",
    "max_decade_usa = ratio_per_decade.idxmax()"
   ]
  },
  {
   "cell_type": "markdown",
   "id": "ebbf6c28",
   "metadata": {},
   "source": [
    "Question 3:\n",
    "\n",
    "Which decade and Nobel Prize category combination had the highest proportion of female laureates?\n",
    "\n",
    "- Store this as a dictionary called `max_female_dict` where the decade is the key and the category is the value. There should only be one key:value pair."
   ]
  },
  {
   "cell_type": "code",
   "execution_count": 4,
   "id": "649d28e8",
   "metadata": {},
   "outputs": [
    {
     "data": {
      "text/plain": [
       "{2020: 'Literature'}"
      ]
     },
     "execution_count": 4,
     "metadata": {},
     "output_type": "execute_result"
    }
   ],
   "source": [
    "# Adding a column to extract the decade from the year\n",
    "nobel_df['decade'] = (nobel_df['year'] // 10) * 10\n",
    "\n",
    "# Grouping by decade and category, then calculating the proportion of female laureates\n",
    "female_proportion = nobel_df[nobel_df['sex'] == 'Female'].groupby(['decade', 'category']).size() / nobel_df.groupby(['decade', 'category']).size()\n",
    "\n",
    "# Finding the decade and category with the highest proportion of female laureates\n",
    "max_female_combination = female_proportion.idxmax()\n",
    "\n",
    "# Storing the result in a dictionary\n",
    "max_female_dict = {max_female_combination[0]: max_female_combination[1]}\n",
    "\n",
    "max_female_dict"
   ]
  },
  {
   "cell_type": "markdown",
   "id": "8ee26449",
   "metadata": {},
   "source": [
    "Question 4:\n",
    "\n",
    "Who was the first woman to receive a Nobel Prize, and in what category?\n",
    "\n",
    "- Save your string answers as `first_woman_name` and `first_woman_category`."
   ]
  },
  {
   "cell_type": "code",
   "execution_count": 5,
   "id": "4ce75d59",
   "metadata": {},
   "outputs": [
    {
     "data": {
      "text/plain": [
       "('Marie Curie, née Sklodowska', 'Physics')"
      ]
     },
     "execution_count": 5,
     "metadata": {},
     "output_type": "execute_result"
    }
   ],
   "source": [
    "# Finding the first woman to receive a Nobel Prize\n",
    "first_woman = nobel_df[nobel_df['sex'] == 'Female'].sort_values(by='year').iloc[0]\n",
    "\n",
    "# Extracting the name and category\n",
    "first_woman_name = first_woman['full_name']\n",
    "first_woman_category = first_woman['category']\n",
    "\n",
    "first_woman_name, first_woman_category"
   ]
  },
  {
   "cell_type": "markdown",
   "id": "0d1aa287",
   "metadata": {},
   "source": [
    "Question 5:\n",
    "\n",
    "Which individuals or organizations have won more than one Nobel Prize throughout the years?\n",
    "\n",
    "- Store the full names in a list named `repeat_list`."
   ]
  },
  {
   "cell_type": "code",
   "execution_count": 6,
   "id": "dd1ed66e",
   "metadata": {},
   "outputs": [
    {
     "data": {
      "text/plain": [
       "['Marie Curie, née Sklodowska',\n",
       " 'Comité international de la Croix Rouge (International Committee of the Red Cross)',\n",
       " 'Linus Carl Pauling',\n",
       " 'Office of the United Nations High Commissioner for Refugees (UNHCR)',\n",
       " 'John Bardeen',\n",
       " 'Frederick Sanger']"
      ]
     },
     "execution_count": 6,
     "metadata": {},
     "output_type": "execute_result"
    }
   ],
   "source": [
    "# Finding individuals or organizations that have won more than one Nobel Prize\n",
    "repeat_winners = nobel_df.groupby('full_name').filter(lambda x: len(x) > 1)\n",
    "\n",
    "# Extracting the unique names of repeat winners\n",
    "repeat_list = repeat_winners['full_name'].unique().tolist()\n",
    "\n",
    "repeat_list"
   ]
  }
 ],
 "metadata": {
  "kernelspec": {
   "display_name": "base",
   "language": "python",
   "name": "python3"
  },
  "language_info": {
   "codemirror_mode": {
    "name": "ipython",
    "version": 3
   },
   "file_extension": ".py",
   "mimetype": "text/x-python",
   "name": "python",
   "nbconvert_exporter": "python",
   "pygments_lexer": "ipython3",
   "version": "3.11.5"
  }
 },
 "nbformat": 4,
 "nbformat_minor": 5
}
